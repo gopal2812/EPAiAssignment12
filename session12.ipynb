{
  "nbformat": 4,
  "nbformat_minor": 0,
  "metadata": {
    "colab": {
      "name": "Copy of Untitled78.ipynb",
      "provenance": [],
      "collapsed_sections": [],
      "authorship_tag": "ABX9TyPO3K6WvY9KyUdKOJcuC2FO",
      "include_colab_link": true
    },
    "kernelspec": {
      "name": "python3",
      "display_name": "Python 3"
    },
    "language_info": {
      "name": "python"
    }
  },
  "cells": [
    {
      "cell_type": "markdown",
      "metadata": {
        "id": "view-in-github",
        "colab_type": "text"
      },
      "source": [
        "<a href=\"https://colab.research.google.com/github/gopal2812/EPAiAssignment12/blob/main/session12.ipynb\" target=\"_parent\"><img src=\"https://colab.research.google.com/assets/colab-badge.svg\" alt=\"Open In Colab\"/></a>"
      ]
    },
    {
      "cell_type": "markdown",
      "metadata": {
        "id": "zOaVJKUqm_qd"
      },
      "source": [
        "# Project: Description\n",
        "The starting point for this project is the Polygon class and the Polygons sequence type we created in the previous project.\n",
        "\n",
        "The code for these classes along with the unit tests for the Polygon class are below if you want to use those as your starting point. But use whatever you came up with in the last project.\n",
        "\n",
        "We have two goals:\n",
        "\n",
        "### Goal 1\n",
        "Refactor the Polygon class so that all the calculated properties are lazy properties, i.e. they should still be calculated properties, but they should not have to get recalculated more than once (since we made our Polygon class \"immutable\").\n",
        "\n",
        "### Goal 2\n",
        "Refactor the Polygons (sequence) type, into an iterable. Make sure also that the elements in the iterator are computed lazily - i.e. you can no longer use a list as an underlying storage mechanism for your polygons."
      ]
    },
    {
      "cell_type": "markdown",
      "metadata": {
        "id": "sEhM2EjmoXPB"
      },
      "source": [
        "### Polygon Class\n",
        "1. A regular strictly convex polygon is a polygon that has the following characteristics:\n",
        "    * All interior angles are less than 180\n",
        "    * All sides have equal length\n",
        "\n",
        "2. For a regular strictly convex polygon with vertices n and circumradius r:\n",
        "    * interiorAngle = (n−2) * (180/n)\n",
        "    * edgeLength, s = 2 * R * sin(π/n) \n",
        "    * apothem, a = R * cos(π/n)\n",
        "    * area = (1/2) * n * a\n",
        "    * perimeter = n * s\n",
        "3. Create a Polygon Class:\n",
        "     \n",
        "     1. Where initializer takes in:\n",
        "        * number of edges/vertices\n",
        "        * circumradius\n",
        "      2. That can provide these properties:\n",
        "          * edges\n",
        "          * vertices\n",
        "          * interior angle\n",
        "          * edge length\n",
        "          * apothem\n",
        "          * area\n",
        "          * perimeter\n",
        "      3. That has these functionalities:\n",
        "          * a proper __repr__ function\n",
        "          * implements equality (==) based on # vertices and circumradius (__eq__)\n",
        "          * implements > based on number of vertices only (__gt__)"
      ]
    },
    {
      "cell_type": "code",
      "metadata": {
        "id": "-oFOn7T8oMVS"
      },
      "source": [
        "import math\n",
        "\n",
        "class Polygon:\n",
        "    \"\"\"\n",
        "    Polygon class to create polygons which are regular strictly convex.\n",
        "    Regular strict polygons have two properties:\n",
        "    1- All interior angles are less than 180.\n",
        "    2- All sides have equal length\n",
        "    \"\"\"\n",
        "    def __init__(self, count_edges: int, circumradius: float) -> None:\n",
        "        \"\"\" Initialize the edges, circumradius, interiorAngle, edgeLength ,\n",
        "            apothem, area, perimeter. \"\"\"\n",
        "        if count_edges < 3:\n",
        "            raise ValueError('Polygon must have at least 3 edges.')\n",
        "        self._n = count_edges\n",
        "        self._R = circumradius\n",
        "        self._interior_angle = None\n",
        "        self._apothem = None\n",
        "        self._side_length = None\n",
        "        self._area = None\n",
        "        self._perimeter = None\n",
        "        \n",
        "    def __repr__(self):\n",
        "        \"\"\" This function gives the details of the Polygon Sequence object\"\"\"        \n",
        "        return f'Polygon(n={self._n}, R={self._R})'\n",
        "    \n",
        "    @property\n",
        "    def count_vertices(self):\n",
        "        \"\"\"Number of vertices in the polygon\"\"\"\n",
        "        return self._n\n",
        "    \n",
        "    @property\n",
        "    def count_edges(self):\n",
        "        \"\"\"Number of edges in the polygon\"\"\"\n",
        "        return self._n\n",
        "    \n",
        "    @count_edges.setter\n",
        "    def count_edges(self, value):\n",
        "        \"\"\"Function to set the number of edges\"\"\"\n",
        "        if(value < 3):\n",
        "            raise ValueError(\"edges should be greater than 3\")\n",
        "        self._n = value\n",
        "        self._interior_angle = None\n",
        "        self._apothem = None\n",
        "        self._side_length = None\n",
        "        self._area = None\n",
        "        self._perimeter = None\n",
        "    \n",
        "    @property\n",
        "    def circumradius(self):\n",
        "        \"\"\"circumradius of the polygon\"\"\"\n",
        "        return self._R\n",
        "    \n",
        "    @circumradius.setter\n",
        "    def circumradius(self, value):\n",
        "        \"\"\" Setter for circumradius\"\"\"\n",
        "        if(value < 0):\n",
        "            raise ValueError(\" circumadius should be greater than 0\")\n",
        "        self._R = value\n",
        "        self._interior_angle = None\n",
        "        self._apothem = None\n",
        "        self._side_length = None\n",
        "        self._area = None\n",
        "        self._perimeter = None\n",
        "    \n",
        "    @property\n",
        "    def interior_angle(self):\n",
        "        \"\"\"Interior angle of the polygon\"\"\"\n",
        "        if self._interior_angle is None:\n",
        "          self._interior_angle = (self._n - 2) * 180 / self._n\n",
        "        return self._interior_angle\n",
        "\n",
        "    @property\n",
        "    def side_length(self):\n",
        "        \"\"\"side length of the polygon\"\"\"\n",
        "        if self._side_length is None:\n",
        "          self._side_length = 2 * self._R * math.sin(math.pi / self._n)\n",
        "        return self._side_length\n",
        "          \n",
        "    \n",
        "    @property\n",
        "    def apothem(self):\n",
        "        \"\"\"apothem of the polygon\"\"\"\n",
        "        if self._apothem is None:\n",
        "          self._apothem = self._R * math.cos(math.pi / self._n)\n",
        "        return self._apothem\n",
        "    \n",
        "    @property\n",
        "    def area(self):\n",
        "        \"\"\"area of the polygon\"\"\"\n",
        "        if self._area is None:\n",
        "          self._area = self._n / 2 * self.side_length * self.apothem\n",
        "        return self._area\n",
        "    \n",
        "    @property\n",
        "    def perimeter(self):\n",
        "        \"\"\"perimeter of the polygon\"\"\"\n",
        "        if self._perimeter is None:\n",
        "          self._perimeter = self._n * self.side_length\n",
        "        return self._perimeter\n",
        "    \n",
        "    def __eq__(self, other):\n",
        "        \"\"\"Provides ability to compare two objects for euality (==).\"\"\"\n",
        "        if isinstance(other, self.__class__):\n",
        "            return (self._n == other._n \n",
        "                    and self._R == other._R)\n",
        "        else:\n",
        "            return NotImplemented\n",
        "        \n",
        "    def __gt__(self, other):\n",
        "        \"\"\"Provide ability to compare two objects for greater than '>' test.\"\"\"\n",
        "        if isinstance(other, self.__class__):\n",
        "            return self.count_vertices > other.count_vertices\n",
        "        else:\n",
        "            return NotImplemented"
      ],
      "execution_count": 134,
      "outputs": []
    },
    {
      "cell_type": "markdown",
      "metadata": {
        "id": "9iSByK4lpcii"
      },
      "source": [
        "**Objective 2**:\n",
        "    Implement a Custom Polygon sequence type:\n",
        "    \n",
        "    1. Where initializer takes in:\n",
        "        * number of vertices for largest polygon in the sequence\n",
        "        * common circumradius for all polygons\n",
        "        * that can provide these properties:\n",
        "        * max efficiency polygon: returns the Polygon with the highest area: perimeter ratio\n",
        "     2. that has these functionalities:\n",
        "        * functions as a sequence type (__getitem__)\n",
        "        * supports the len() function (__len__)\n",
        "        * has a proper representation (__repr__)"
      ]
    },
    {
      "cell_type": "code",
      "metadata": {
        "id": "BP1CTVvgP1jQ"
      },
      "source": [
        "\"\"\"**Objective 2**:\n",
        "    Implement a Custom Polygon sequence type:\n",
        "\n",
        "    1. Where initializer takes in:\n",
        "        * number of vertices for largest polygon in the sequence\n",
        "        * common circumradius for all polygons\n",
        "        * that can provide these properties:\n",
        "        * max efficiency polygon: returns the Polygon with the highest area: perimeter ratio\n",
        "     2. that has these functionalities:\n",
        "        * functions as a sequence type (__getitem__)\n",
        "        * supports the len() function (__len__)\n",
        "        * has a proper representation (__repr__)\n",
        "\"\"\"\n",
        "\n",
        "\n",
        "class Polygons:\n",
        "    \"\"\"\n",
        "    Custom polygon sequence containing polygons where maximum number of edges in a polygon is given\n",
        "    by m  and circumradius (R) for all polygons is is given by circumradius and is same for all polygons\"\n",
        "    \"\"\"\n",
        "    def __init__(self, m, r):\n",
        "        if m < 3:\n",
        "            raise ValueError('m must be greater than 3')\n",
        "        self._m = m\n",
        "        self._r = r\n",
        "        self._efficiency = None\n",
        "\n",
        "    def __len__(self):\n",
        "        \"\"\" This function gives the length of the Polygon Sequence object \"\"\"\n",
        "        return self._m - 2\n",
        "\n",
        "    def __repr__(self):\n",
        "        \"\"\" This function gives the details of the Polygon Sequence object\"\"\"\n",
        "        return f'Polygons(m={self._m}, R={self._r})'\n",
        "\n",
        "    def __getitem__(self, s):\n",
        "        \"\"\" This function returns the element of a Polygon sequence or a list of\n",
        "        element of Polygon sequence\"\"\"\n",
        "        if isinstance(s, int):\n",
        "            if s < 0:\n",
        "                s = self._m - 2 + s\n",
        "            if s < 0 or s >= (self._m - 2):\n",
        "                raise IndexError\n",
        "            else:\n",
        "                return self._polygon(s + 3)\n",
        "        else:\n",
        "            start, stop, step = s.indices(self._m-2)\n",
        "            rng = range(start, stop, step)\n",
        "            return [self._polygon(i+3) for i in rng]\n",
        "\n",
        "    def __iter__(self):\n",
        "        \"\"\"Iterable Function--> This function returns the iterator for the \n",
        "        Polygon object\"\"\"\n",
        "        print(\"Calling Polygon instance __iter__\")\n",
        "        return self.PolygonIterator(self._m - 2, self._r)\n",
        "\n",
        "    def _polygon(self, num_edges):\n",
        "        \"\"\"Function returning a polygon of particular num of edges and \\\n",
        "        circumradius along with all the properties\"\"\"\n",
        "        return Polygon(num_edges, self._r)\n",
        "\n",
        "    @property\n",
        "    def max_efficiency_polygon(self):\n",
        "        \"\"\" This function returns the maximum efficiency polygon.\n",
        "        Here, a maximum efficiency polygon is one that has the highest area to\n",
        "        perimeter ratio.\"\"\"\n",
        "        if self._efficiency is None:\n",
        "            self._efficiency = sorted(self._polygons,\n",
        "                                      key=lambda p: p.area/p.perimeter,\n",
        "                                      reverse=True)[-1]\n",
        "        return self._efficiency\n",
        "\n",
        "    class PolygonIterator:\n",
        "        \"\"\"This is an Iterator for the polygons class\"\"\"\n",
        "        def __init__(self, max_edges, radius):\n",
        "            \"\"\"Function initializing the polygon Iterator and\n",
        "            index. Index is used to return the next element in the polygon\n",
        "            sequence when used as a iterator\"\"\"\n",
        "            print(\"Calling PolygonIterator __init__\")\n",
        "            self._r = radius\n",
        "            self._index = 0\n",
        "            self._max_edges = max_edges\n",
        "\n",
        "        def __iter__(self):\n",
        "            \"\"\" PolygonIterator instance returning self\"\"\"\n",
        "            print(\"Calling PolygonIterator instance __iter__\")\n",
        "            return self\n",
        "\n",
        "        def __next__(self):\n",
        "            \"\"\"PolygonIterator next function which return the next element in \n",
        "            Polygons sequence if current index is less than length of Polygons obj\"\"\"\n",
        "            print(\"Calling PolygonIterator __next__\")\n",
        "            if self._index >= self._max_edges:\n",
        "                raise StopIteration\n",
        "            else:\n",
        "                index = self._index\n",
        "                item = Polygon(index + 3, self._r)\n",
        "                self._index += 1\n",
        "                print(f'here: {self._index}')\n",
        "                return item\n"
      ],
      "execution_count": 135,
      "outputs": []
    },
    {
      "cell_type": "markdown",
      "metadata": {
        "id": "ZDCqlE2_qKAB"
      },
      "source": [
        "* Test Polygon Sequence"
      ]
    },
    {
      "cell_type": "markdown",
      "metadata": {
        "id": "vtQ9OkctqRRl"
      },
      "source": [
        "* Test Polygon Iterator"
      ]
    },
    {
      "cell_type": "code",
      "metadata": {
        "id": "4K60PGxFeq5u"
      },
      "source": [
        "## Initializing an Polygon sequence object\n",
        "P1 = Polygons(7,5)"
      ],
      "execution_count": 136,
      "outputs": []
    },
    {
      "cell_type": "code",
      "metadata": {
        "colab": {
          "base_uri": "https://localhost:8080/"
        },
        "id": "oNssy7FVfHab",
        "outputId": "cb4a242c-fae6-4c41-bdb4-dcbe2bbd9c5f"
      },
      "source": [
        "# Iterate over polygon sequence object\n",
        "iter_p = iter(P1)\n",
        "for polygon in iter_p:\n",
        "  print(polygon)"
      ],
      "execution_count": 137,
      "outputs": [
        {
          "output_type": "stream",
          "text": [
            "Calling Polygon instance __iter__\n",
            "Calling PolygonIterator __init__\n",
            "Calling PolygonIterator instance __iter__\n",
            "Calling PolygonIterator __next__\n",
            "here: 1\n",
            "Polygon(n=3, R=5)\n",
            "Calling PolygonIterator __next__\n",
            "here: 2\n",
            "Polygon(n=4, R=5)\n",
            "Calling PolygonIterator __next__\n",
            "here: 3\n",
            "Polygon(n=5, R=5)\n",
            "Calling PolygonIterator __next__\n",
            "here: 4\n",
            "Polygon(n=6, R=5)\n",
            "Calling PolygonIterator __next__\n",
            "here: 5\n",
            "Polygon(n=7, R=5)\n",
            "Calling PolygonIterator __next__\n"
          ],
          "name": "stdout"
        }
      ]
    },
    {
      "cell_type": "code",
      "metadata": {
        "id": "S-ucD2y8iLc8"
      },
      "source": [
        "#Check the typr of \n",
        "r = type(iter_p)\n",
        "assert ((str(r)).find('Polygons.PolygonIterator') != -1)"
      ],
      "execution_count": 138,
      "outputs": []
    },
    {
      "cell_type": "code",
      "metadata": {
        "id": "V0hdm7DwkDNH",
        "colab": {
          "base_uri": "https://localhost:8080/"
        },
        "outputId": "d66fcd09-bdec-4856-c5e5-1fdb8bff400f"
      },
      "source": [
        "# Check the iterable properties  i.e. If something (l for instance above) doesn't get exhausted, and it is iteratable.\n",
        "for poly in P1:\n",
        "    print(poly)\n",
        "\n",
        "print (\"P1 is an unexhaustable source and it an Iterable\\n\")    \n",
        "\n",
        "for poly1 in P1:\n",
        "    print(poly1)"
      ],
      "execution_count": 139,
      "outputs": [
        {
          "output_type": "stream",
          "text": [
            "Calling Polygon instance __iter__\n",
            "Calling PolygonIterator __init__\n",
            "Calling PolygonIterator __next__\n",
            "here: 1\n",
            "Polygon(n=3, R=5)\n",
            "Calling PolygonIterator __next__\n",
            "here: 2\n",
            "Polygon(n=4, R=5)\n",
            "Calling PolygonIterator __next__\n",
            "here: 3\n",
            "Polygon(n=5, R=5)\n",
            "Calling PolygonIterator __next__\n",
            "here: 4\n",
            "Polygon(n=6, R=5)\n",
            "Calling PolygonIterator __next__\n",
            "here: 5\n",
            "Polygon(n=7, R=5)\n",
            "Calling PolygonIterator __next__\n",
            "P1 is an unexhaustable source and it an Iterable\n",
            "\n",
            "Calling Polygon instance __iter__\n",
            "Calling PolygonIterator __init__\n",
            "Calling PolygonIterator __next__\n",
            "here: 1\n",
            "Polygon(n=3, R=5)\n",
            "Calling PolygonIterator __next__\n",
            "here: 2\n",
            "Polygon(n=4, R=5)\n",
            "Calling PolygonIterator __next__\n",
            "here: 3\n",
            "Polygon(n=5, R=5)\n",
            "Calling PolygonIterator __next__\n",
            "here: 4\n",
            "Polygon(n=6, R=5)\n",
            "Calling PolygonIterator __next__\n",
            "here: 5\n",
            "Polygon(n=7, R=5)\n",
            "Calling PolygonIterator __next__\n"
          ],
          "name": "stdout"
        }
      ]
    },
    {
      "cell_type": "code",
      "metadata": {
        "colab": {
          "base_uri": "https://localhost:8080/"
        },
        "id": "1EmzukSTlhXi",
        "outputId": "4c8ea1f1-3dca-41ec-cba1-a56667d00e20"
      },
      "source": [
        "#check the slicing functionality\n",
        "P1[0:1]"
      ],
      "execution_count": 140,
      "outputs": [
        {
          "output_type": "execute_result",
          "data": {
            "text/plain": [
              "[Polygon(n=3, R=5)]"
            ]
          },
          "metadata": {
            "tags": []
          },
          "execution_count": 140
        }
      ]
    },
    {
      "cell_type": "code",
      "metadata": {
        "id": "HcEDP9uHlvL7",
        "colab": {
          "base_uri": "https://localhost:8080/"
        },
        "outputId": "0acd5363-6cef-4258-cbca-d0f07a7e89f6"
      },
      "source": [
        "# check the sequence property\n",
        "P1[2]"
      ],
      "execution_count": 141,
      "outputs": [
        {
          "output_type": "execute_result",
          "data": {
            "text/plain": [
              "Polygon(n=5, R=5)"
            ]
          },
          "metadata": {
            "tags": []
          },
          "execution_count": 141
        }
      ]
    },
    {
      "cell_type": "code",
      "metadata": {
        "id": "qnKSy-BEdY2s"
      },
      "source": [
        "def test_polygon():\n",
        "    abs_tol = 0.001\n",
        "    rel_tol = 0.001\n",
        "\n",
        "    try:\n",
        "        p = Polygon(2, 10)\n",
        "        assert False, ('Creating a Polygon with 2 sides: '\n",
        "                       ' Exception expected, not received')\n",
        "    except ValueError:\n",
        "        pass\n",
        "\n",
        "    n = 3\n",
        "    r = 1\n",
        "    p = Polygon(n, r)\n",
        "    assert str(p) == 'Polygon(n=3, R=1)', f'actual: {str(p)}'\n",
        "    assert p.count_vertices == n, (f'actual: {p.count_vertices},'\n",
        "                                   f' expected: {n}')\n",
        "    assert p.count_edges == n, f'actual: {p.count_edges}, expected: {n}'\n",
        "    assert p.circumradius == r, f'actual: {p.circumradius}, expected: {n}'\n",
        "    assert p.interior_angle == 60, (f'actual: {p.interior_angle},'\n",
        "                                    ' expected: 60')\n",
        "    n = 4\n",
        "    r = 1\n",
        "    p = Polygon(n, r)\n",
        "    assert p.interior_angle == 90, (f'actual: {p.interior_angle}, '\n",
        "                                    ' expected: 90')\n",
        "    assert math.isclose(p.area, 2,\n",
        "                        rel_tol=abs_tol,\n",
        "                        abs_tol=abs_tol), (f'actual: {p.area},'\n",
        "                                           ' expected: 2.0')\n",
        "\n",
        "    assert math.isclose(p.side_length, math.sqrt(2),\n",
        "                        rel_tol=rel_tol,\n",
        "                        abs_tol=abs_tol), (f'actual: {p.side_length},'\n",
        "                                           f' expected: {math.sqrt(2)}')\n",
        "\n",
        "    assert math.isclose(p.perimeter, 4 * math.sqrt(2),\n",
        "                        rel_tol=rel_tol,\n",
        "                        abs_tol=abs_tol), (f'actual: {p.perimeter},'\n",
        "                                           f' expected: {4 * math.sqrt(2)}')\n",
        "\n",
        "    assert math.isclose(p.apothem, 0.707,\n",
        "                        rel_tol=rel_tol,\n",
        "                        abs_tol=abs_tol), (f'actual: {p.perimeter},'\n",
        "                                           ' expected: 0.707')\n",
        "    p = Polygon(6, 2)\n",
        "    assert math.isclose(p.side_length, 2,\n",
        "                        rel_tol=rel_tol, abs_tol=abs_tol)\n",
        "    assert math.isclose(p.apothem, 1.73205,\n",
        "                        rel_tol=rel_tol, abs_tol=abs_tol)\n",
        "    assert math.isclose(p.area, 10.3923,\n",
        "                        rel_tol=rel_tol, abs_tol=abs_tol)\n",
        "    assert math.isclose(p.perimeter, 12,\n",
        "                        rel_tol=rel_tol, abs_tol=abs_tol)\n",
        "    assert math.isclose(p.interior_angle, 120,\n",
        "                        rel_tol=rel_tol, abs_tol=abs_tol)\n",
        "\n",
        "    p = Polygon(12, 3)\n",
        "    assert math.isclose(p.side_length, 1.55291,\n",
        "                        rel_tol=rel_tol, abs_tol=abs_tol)\n",
        "    assert math.isclose(p.apothem, 2.89778,\n",
        "                        rel_tol=rel_tol, abs_tol=abs_tol)\n",
        "    assert math.isclose(p.area, 27,\n",
        "                        rel_tol=rel_tol, abs_tol=abs_tol)\n",
        "    assert math.isclose(p.perimeter, 18.635,\n",
        "                        rel_tol=rel_tol, abs_tol=abs_tol)\n",
        "    assert math.isclose(p.interior_angle, 150,\n",
        "                        rel_tol=rel_tol, abs_tol=abs_tol)\n",
        "\n",
        "    p1 = Polygon(3, 10)\n",
        "    p2 = Polygon(10, 10)\n",
        "    p3 = Polygon(15, 10)\n",
        "    p4 = Polygon(15, 100)\n",
        "    p5 = Polygon(15, 100)\n",
        "\n",
        "    assert p2 > p1\n",
        "    assert p2 < p3\n",
        "    assert p3 != p4\n",
        "    assert p1 != p4\n",
        "    assert p4 == p5\n",
        "\n",
        "    \"\"\"* Test Polygon Iterator\"\"\"\n",
        "    ps1 = Polygons(7, 5)  # Initializing an Polygon sequence object\n",
        "    iter_ps = iter(ps1)  # Iterate over polygon sequence object\n",
        "    try:\n",
        "        for polygon in iter_ps:\n",
        "            print(polygon)\n",
        "        pass\n",
        "    except ValueError:\n",
        "        assert False, 'exception received while iterating'\n",
        "\n",
        "    \"\"\"check the type of iter_p\"\"\"\n",
        "    r = type(iter_ps)\n",
        "    assert ((str(r)).find('Polygons.PolygonIterator') != -1)\n",
        "\n",
        "    \"\"\"Check the iterable properties  i.e. If something (l for instance above) doesn't get exhausted, \n",
        "    and it is iteratable.\"\"\"\n",
        "    try:\n",
        "        for poly in ps1:\n",
        "            print(poly)\n",
        "\n",
        "        print(\"P1 is an unexhaustable source and it an Iterable\\n\")\n",
        "\n",
        "        for poly1 in ps1:\n",
        "            print(poly1)\n",
        "    except StopIteration:\n",
        "        assert False, \"Error due to exhaust source\"\n",
        "\n",
        "\n",
        "    assert (str(ps1[0:1]) == '[Polygon(n=3, R=5)]'), f'actual: {str(p1[0:1])}'   # check the slicing functionality\n",
        "\n",
        "    assert (str(ps1[2]) == 'Polygon(n=5, R=5)'), f'actual: {str(p1[2])}'     # check the sequence property\n",
        "\n",
        "    try:\n",
        "        iter_ps1 = iter(ps1)\n",
        "        print(next(iter_ps1))\n",
        "        print(next(iter_ps1))\n",
        "        print(next(iter_ps1))\n",
        "        print(next(iter_ps1))\n",
        "        print(next(iter_ps1))\n",
        "        print(next(iter_ps1))\n",
        "    except StopIteration:  # Check if stopIteration be called after it reaches its limit in an iteration\n",
        "        assert True, \"hits exception\"\n",
        "    \n",
        "    ps1 = Polygons(7, 5)\n",
        "\n",
        "    assert (('__iter__' in dir(ps1)) == True), \"__iter__ doesn't exist in polygon object\"\n",
        "    assert (sorted(ps1))\n",
        "    assert(reversed(ps1))\n",
        "\n"
      ],
      "execution_count": 142,
      "outputs": []
    },
    {
      "cell_type": "code",
      "metadata": {
        "id": "auUzQa9zddpi",
        "colab": {
          "base_uri": "https://localhost:8080/"
        },
        "outputId": "c3e0f1e4-148d-423b-dc0f-9faba4e21604"
      },
      "source": [
        "test_polygon()"
      ],
      "execution_count": 143,
      "outputs": [
        {
          "output_type": "stream",
          "text": [
            "Calling Polygon instance __iter__\n",
            "Calling PolygonIterator __init__\n",
            "Calling PolygonIterator instance __iter__\n",
            "Calling PolygonIterator __next__\n",
            "here: 1\n",
            "Polygon(n=3, R=5)\n",
            "Calling PolygonIterator __next__\n",
            "here: 2\n",
            "Polygon(n=4, R=5)\n",
            "Calling PolygonIterator __next__\n",
            "here: 3\n",
            "Polygon(n=5, R=5)\n",
            "Calling PolygonIterator __next__\n",
            "here: 4\n",
            "Polygon(n=6, R=5)\n",
            "Calling PolygonIterator __next__\n",
            "here: 5\n",
            "Polygon(n=7, R=5)\n",
            "Calling PolygonIterator __next__\n",
            "Calling Polygon instance __iter__\n",
            "Calling PolygonIterator __init__\n",
            "Calling PolygonIterator __next__\n",
            "here: 1\n",
            "Polygon(n=3, R=5)\n",
            "Calling PolygonIterator __next__\n",
            "here: 2\n",
            "Polygon(n=4, R=5)\n",
            "Calling PolygonIterator __next__\n",
            "here: 3\n",
            "Polygon(n=5, R=5)\n",
            "Calling PolygonIterator __next__\n",
            "here: 4\n",
            "Polygon(n=6, R=5)\n",
            "Calling PolygonIterator __next__\n",
            "here: 5\n",
            "Polygon(n=7, R=5)\n",
            "Calling PolygonIterator __next__\n",
            "P1 is an unexhaustable source and it an Iterable\n",
            "\n",
            "Calling Polygon instance __iter__\n",
            "Calling PolygonIterator __init__\n",
            "Calling PolygonIterator __next__\n",
            "here: 1\n",
            "Polygon(n=3, R=5)\n",
            "Calling PolygonIterator __next__\n",
            "here: 2\n",
            "Polygon(n=4, R=5)\n",
            "Calling PolygonIterator __next__\n",
            "here: 3\n",
            "Polygon(n=5, R=5)\n",
            "Calling PolygonIterator __next__\n",
            "here: 4\n",
            "Polygon(n=6, R=5)\n",
            "Calling PolygonIterator __next__\n",
            "here: 5\n",
            "Polygon(n=7, R=5)\n",
            "Calling PolygonIterator __next__\n",
            "Calling Polygon instance __iter__\n",
            "Calling PolygonIterator __init__\n",
            "Calling PolygonIterator __next__\n",
            "here: 1\n",
            "Polygon(n=3, R=5)\n",
            "Calling PolygonIterator __next__\n",
            "here: 2\n",
            "Polygon(n=4, R=5)\n",
            "Calling PolygonIterator __next__\n",
            "here: 3\n",
            "Polygon(n=5, R=5)\n",
            "Calling PolygonIterator __next__\n",
            "here: 4\n",
            "Polygon(n=6, R=5)\n",
            "Calling PolygonIterator __next__\n",
            "here: 5\n",
            "Polygon(n=7, R=5)\n",
            "Calling PolygonIterator __next__\n",
            "Calling Polygon instance __iter__\n",
            "Calling PolygonIterator __init__\n",
            "Calling PolygonIterator __next__\n",
            "here: 1\n",
            "Calling PolygonIterator __next__\n",
            "here: 2\n",
            "Calling PolygonIterator __next__\n",
            "here: 3\n",
            "Calling PolygonIterator __next__\n",
            "here: 4\n",
            "Calling PolygonIterator __next__\n",
            "here: 5\n",
            "Calling PolygonIterator __next__\n"
          ],
          "name": "stdout"
        }
      ]
    },
    {
      "cell_type": "code",
      "metadata": {
        "id": "biYaWNrp0Ffk",
        "outputId": "0f7d4bbe-07e7-4b32-de3f-4c124b2a889f",
        "colab": {
          "base_uri": "https://localhost:8080/"
        }
      },
      "source": [
        "p1 = Polygons(5, 10)\n",
        "print(sorted(p1)[0])\n",
        "print('__iter__' in dir(p1))\n",
        "assert (('__iter__' in dir(p1)) == True), \"__iter__ doesn't exist in polygon object\""
      ],
      "execution_count": 144,
      "outputs": [
        {
          "output_type": "stream",
          "text": [
            "Calling Polygon instance __iter__\n",
            "Calling PolygonIterator __init__\n",
            "Calling PolygonIterator __next__\n",
            "here: 1\n",
            "Calling PolygonIterator __next__\n",
            "here: 2\n",
            "Calling PolygonIterator __next__\n",
            "here: 3\n",
            "Calling PolygonIterator __next__\n",
            "Polygon(n=3, R=10)\n",
            "True\n"
          ],
          "name": "stdout"
        }
      ]
    },
    {
      "cell_type": "code",
      "metadata": {
        "id": "zYRRk_rGQWqT",
        "outputId": "54268fc3-c963-4ae6-add3-07a1c43d3692",
        "colab": {
          "base_uri": "https://localhost:8080/"
        }
      },
      "source": [
        "print(p1[::-1])"
      ],
      "execution_count": 145,
      "outputs": [
        {
          "output_type": "stream",
          "text": [
            "[Polygon(n=5, R=10), Polygon(n=4, R=10), Polygon(n=3, R=10)]\n"
          ],
          "name": "stdout"
        }
      ]
    },
    {
      "cell_type": "code",
      "metadata": {
        "id": "691ELwqqhtHS",
        "colab": {
          "base_uri": "https://localhost:8080/"
        },
        "outputId": "e21621ff-0649-498c-ce33-c2ec56ae0ae4"
      },
      "source": [
        "help(polygon)"
      ],
      "execution_count": 146,
      "outputs": [
        {
          "output_type": "stream",
          "text": [
            "Help on Polygon in module __main__ object:\n",
            "\n",
            "class Polygon(builtins.object)\n",
            " |  Polygon(count_edges: int, circumradius: float) -> None\n",
            " |  \n",
            " |  Polygon class to create polygons which are regular strictly convex.\n",
            " |  Regular strict polygons have two properties:\n",
            " |  1- All interior angles are less than 180.\n",
            " |  2- All sides have equal length\n",
            " |  \n",
            " |  Methods defined here:\n",
            " |  \n",
            " |  __eq__(self, other)\n",
            " |      Provides ability to compare two objects for euality (==).\n",
            " |  \n",
            " |  __gt__(self, other)\n",
            " |      Provide ability to compare two objects for greater than '>' test.\n",
            " |  \n",
            " |  __init__(self, count_edges: int, circumradius: float) -> None\n",
            " |      Initialize the edges, circumradius, interiorAngle, edgeLength ,\n",
            " |      apothem, area, perimeter.\n",
            " |  \n",
            " |  __repr__(self)\n",
            " |      This function gives the details of the Polygon Sequence object\n",
            " |  \n",
            " |  ----------------------------------------------------------------------\n",
            " |  Data descriptors defined here:\n",
            " |  \n",
            " |  __dict__\n",
            " |      dictionary for instance variables (if defined)\n",
            " |  \n",
            " |  __weakref__\n",
            " |      list of weak references to the object (if defined)\n",
            " |  \n",
            " |  apothem\n",
            " |      apothem of the polygon\n",
            " |  \n",
            " |  area\n",
            " |      area of the polygon\n",
            " |  \n",
            " |  circumradius\n",
            " |      circumradius of the polygon\n",
            " |  \n",
            " |  count_edges\n",
            " |      Number of edges in the polygon\n",
            " |  \n",
            " |  count_vertices\n",
            " |      Number of vertices in the polygon\n",
            " |  \n",
            " |  interior_angle\n",
            " |      Interior angle of the polygon\n",
            " |  \n",
            " |  perimeter\n",
            " |      perimeter of the polygon\n",
            " |  \n",
            " |  side_length\n",
            " |      side length of the polygon\n",
            " |  \n",
            " |  ----------------------------------------------------------------------\n",
            " |  Data and other attributes defined here:\n",
            " |  \n",
            " |  __hash__ = None\n",
            "\n"
          ],
          "name": "stdout"
        }
      ]
    },
    {
      "cell_type": "code",
      "metadata": {
        "id": "slEpOjUxqbp-",
        "colab": {
          "base_uri": "https://localhost:8080/"
        },
        "outputId": "806a94f3-a724-45ff-c1d4-fa234816e0a7"
      },
      "source": [
        "help(Polygons)"
      ],
      "execution_count": 147,
      "outputs": [
        {
          "output_type": "stream",
          "text": [
            "Help on class Polygons in module __main__:\n",
            "\n",
            "class Polygons(builtins.object)\n",
            " |  Polygons(m, r)\n",
            " |  \n",
            " |  Custom polygon sequence containing polygons where maximum number of edges in a polygon is given\n",
            " |  by m  and circumradius (R) for all polygons is is given by circumradius and is same for all polygons\"\n",
            " |  \n",
            " |  Methods defined here:\n",
            " |  \n",
            " |  __getitem__(self, s)\n",
            " |      This function returns the element of a Polygon sequence or a list of\n",
            " |      element of Polygon sequence\n",
            " |  \n",
            " |  __init__(self, m, r)\n",
            " |      Initialize self.  See help(type(self)) for accurate signature.\n",
            " |  \n",
            " |  __iter__(self)\n",
            " |      Iterable Function--> This function returns the iterator for the \n",
            " |      Polygon object\n",
            " |  \n",
            " |  __len__(self)\n",
            " |      This function gives the length of the Polygon Sequence object\n",
            " |  \n",
            " |  __repr__(self)\n",
            " |      This function gives the details of the Polygon Sequence object\n",
            " |  \n",
            " |  ----------------------------------------------------------------------\n",
            " |  Data descriptors defined here:\n",
            " |  \n",
            " |  __dict__\n",
            " |      dictionary for instance variables (if defined)\n",
            " |  \n",
            " |  __weakref__\n",
            " |      list of weak references to the object (if defined)\n",
            " |  \n",
            " |  max_efficiency_polygon\n",
            " |      This function returns the maximum efficiency polygon.\n",
            " |      Here, a maximum efficiency polygon is one that has the highest area to\n",
            " |      perimeter ratio.\n",
            " |  \n",
            " |  ----------------------------------------------------------------------\n",
            " |  Data and other attributes defined here:\n",
            " |  \n",
            " |  PolygonIterator = <class '__main__.Polygons.PolygonIterator'>\n",
            " |      This is an Iterator for the polygons class\n",
            "\n"
          ],
          "name": "stdout"
        }
      ]
    },
    {
      "cell_type": "code",
      "metadata": {
        "id": "0QOSg1XqqmBJ",
        "colab": {
          "base_uri": "https://localhost:8080/"
        },
        "outputId": "0861e8b6-c1f1-46da-e995-94bdb7337a4d"
      },
      "source": [
        "help(Polygons.PolygonIterator)"
      ],
      "execution_count": 148,
      "outputs": [
        {
          "output_type": "stream",
          "text": [
            "Help on class PolygonIterator in module __main__:\n",
            "\n",
            "class PolygonIterator(builtins.object)\n",
            " |  PolygonIterator(max_edges, radius)\n",
            " |  \n",
            " |  This is an Iterator for the polygons class\n",
            " |  \n",
            " |  Methods defined here:\n",
            " |  \n",
            " |  __init__(self, max_edges, radius)\n",
            " |      Function initializing the polygon Iterator and\n",
            " |      index. Index is used to return the next element in the polygon\n",
            " |      sequence when used as a iterator\n",
            " |  \n",
            " |  __iter__(self)\n",
            " |      PolygonIterator instance returning self\n",
            " |  \n",
            " |  __next__(self)\n",
            " |      PolygonIterator next function which return the next element in \n",
            " |      Polygons sequence if current index is less than length of Polygons obj\n",
            " |  \n",
            " |  ----------------------------------------------------------------------\n",
            " |  Data descriptors defined here:\n",
            " |  \n",
            " |  __dict__\n",
            " |      dictionary for instance variables (if defined)\n",
            " |  \n",
            " |  __weakref__\n",
            " |      list of weak references to the object (if defined)\n",
            "\n"
          ],
          "name": "stdout"
        }
      ]
    }
  ]
}